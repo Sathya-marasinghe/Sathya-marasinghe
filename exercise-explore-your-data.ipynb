{
 "cells": [
  {
   "cell_type": "markdown",
   "id": "b05f81b4",
   "metadata": {
    "papermill": {
     "duration": 0.006649,
     "end_time": "2023-11-11T11:48:12.226405",
     "exception": false,
     "start_time": "2023-11-11T11:48:12.219756",
     "status": "completed"
    },
    "tags": []
   },
   "source": [
    "**[Machine Learning Course Home Page](https://www.kaggle.com/learn/machine-learning)**\n",
    "\n",
    "---\n"
   ]
  },
  {
   "cell_type": "markdown",
   "id": "503216ba",
   "metadata": {
    "papermill": {
     "duration": 0.005817,
     "end_time": "2023-11-11T11:48:12.238604",
     "exception": false,
     "start_time": "2023-11-11T11:48:12.232787",
     "status": "completed"
    },
    "tags": []
   },
   "source": [
    "This exercise will test your ability to read a data file and understand statistics about the data.\n",
    "\n",
    "In later exercises, you will apply techniques to filter the data, build a machine learning model, and iteratively improve your model.\n",
    "\n",
    "The course examples use data from Melbourne. To ensure you can apply these techniques on your own, you will have to apply them to a new dataset (with house prices from Iowa).\n",
    "\n",
    "The exercises use a \"notebook\" coding environment.  In case you are unfamiliar with notebooks, we have a [90-second intro video](https://www.youtube.com/watch?v=4C2qMnaIKL4).\n",
    "\n",
    "# Exercises\n",
    "\n",
    "Run the following cell to set up code-checking, which will verify your work as you go."
   ]
  },
  {
   "cell_type": "code",
   "execution_count": 1,
   "id": "05739b2c",
   "metadata": {
    "execution": {
     "iopub.execute_input": "2023-11-11T11:48:12.253106Z",
     "iopub.status.busy": "2023-11-11T11:48:12.252706Z",
     "iopub.status.idle": "2023-11-11T11:48:12.711764Z",
     "shell.execute_reply": "2023-11-11T11:48:12.709805Z"
    },
    "papermill": {
     "duration": 0.46909,
     "end_time": "2023-11-11T11:48:12.714394",
     "exception": false,
     "start_time": "2023-11-11T11:48:12.245304",
     "status": "completed"
    },
    "tags": []
   },
   "outputs": [
    {
     "name": "stdout",
     "output_type": "stream",
     "text": [
      "Setup Complete\n"
     ]
    }
   ],
   "source": [
    "# Set up code checking\n",
    "from learntools.core import binder\n",
    "binder.bind(globals())\n",
    "from learntools.machine_learning.ex2 import *\n",
    "print(\"Setup Complete\")"
   ]
  },
  {
   "cell_type": "code",
   "execution_count": 2,
   "id": "a817ba76",
   "metadata": {
    "execution": {
     "iopub.execute_input": "2023-11-11T11:48:12.731025Z",
     "iopub.status.busy": "2023-11-11T11:48:12.729570Z",
     "iopub.status.idle": "2023-11-11T11:48:12.736963Z",
     "shell.execute_reply": "2023-11-11T11:48:12.735668Z"
    },
    "papermill": {
     "duration": 0.018424,
     "end_time": "2023-11-11T11:48:12.739149",
     "exception": false,
     "start_time": "2023-11-11T11:48:12.720725",
     "status": "completed"
    },
    "tags": []
   },
   "outputs": [
    {
     "name": "stdout",
     "output_type": "stream",
     "text": [
      "Markdown\n"
     ]
    }
   ],
   "source": [
    "from learntools.core import binder\n",
    "binder.bind(globals())\n",
    "from learntools.machine_learning.ex2 import *\n",
    "print(\"Markdown\")"
   ]
  },
  {
   "cell_type": "markdown",
   "id": "af0af42f",
   "metadata": {
    "papermill": {
     "duration": 0.006075,
     "end_time": "2023-11-11T11:48:12.751490",
     "exception": false,
     "start_time": "2023-11-11T11:48:12.745415",
     "status": "completed"
    },
    "tags": []
   },
   "source": []
  },
  {
   "cell_type": "markdown",
   "id": "f85e3def",
   "metadata": {
    "papermill": {
     "duration": 0.005988,
     "end_time": "2023-11-11T11:48:12.763690",
     "exception": false,
     "start_time": "2023-11-11T11:48:12.757702",
     "status": "completed"
    },
    "tags": []
   },
   "source": []
  },
  {
   "cell_type": "code",
   "execution_count": 3,
   "id": "9598d537",
   "metadata": {
    "execution": {
     "iopub.execute_input": "2023-11-11T11:48:12.778026Z",
     "iopub.status.busy": "2023-11-11T11:48:12.777622Z",
     "iopub.status.idle": "2023-11-11T11:48:12.783718Z",
     "shell.execute_reply": "2023-11-11T11:48:12.782586Z"
    },
    "papermill": {
     "duration": 0.016444,
     "end_time": "2023-11-11T11:48:12.786436",
     "exception": false,
     "start_time": "2023-11-11T11:48:12.769992",
     "status": "completed"
    },
    "tags": []
   },
   "outputs": [
    {
     "name": "stdout",
     "output_type": "stream",
     "text": [
      "LaTeX:α2\n"
     ]
    }
   ],
   "source": [
    "from learntools.core import binder\n",
    "binder.bind(globals())\n",
    "from learntools.machine_learning.ex2 import *\n",
    "print(\"LaTeX:α2\")"
   ]
  },
  {
   "cell_type": "markdown",
   "id": "2cbfe5c0",
   "metadata": {
    "execution": {
     "iopub.execute_input": "2023-11-11T11:07:44.248050Z",
     "iopub.status.busy": "2023-11-11T11:07:44.247611Z",
     "iopub.status.idle": "2023-11-11T11:07:44.256234Z",
     "shell.execute_reply": "2023-11-11T11:07:44.254758Z",
     "shell.execute_reply.started": "2023-11-11T11:07:44.248018Z"
    },
    "papermill": {
     "duration": 0.006305,
     "end_time": "2023-11-11T11:48:12.799266",
     "exception": false,
     "start_time": "2023-11-11T11:48:12.792961",
     "status": "completed"
    },
    "tags": []
   },
   "source": [
    "from learntools.core import binder\n",
    "binder.bind(globals())\n",
    "from learntools.machine_learning.ex2 import *\n",
    "print(\"Markdown and LaTeX:  α\")"
   ]
  },
  {
   "cell_type": "markdown",
   "id": "2dc4945d",
   "metadata": {
    "papermill": {
     "duration": 0.006278,
     "end_time": "2023-11-11T11:48:12.812040",
     "exception": false,
     "start_time": "2023-11-11T11:48:12.805762",
     "status": "completed"
    },
    "tags": []
   },
   "source": []
  },
  {
   "cell_type": "markdown",
   "id": "f7cf838f",
   "metadata": {
    "papermill": {
     "duration": 0.006201,
     "end_time": "2023-11-11T11:48:12.824764",
     "exception": false,
     "start_time": "2023-11-11T11:48:12.818563",
     "status": "completed"
    },
    "tags": []
   },
   "source": []
  },
  {
   "cell_type": "markdown",
   "id": "c21ba7ec",
   "metadata": {
    "papermill": {
     "duration": 0.006155,
     "end_time": "2023-11-11T11:48:12.837375",
     "exception": false,
     "start_time": "2023-11-11T11:48:12.831220",
     "status": "completed"
    },
    "tags": []
   },
   "source": []
  },
  {
   "cell_type": "markdown",
   "id": "442d38d0",
   "metadata": {
    "papermill": {
     "duration": 0.006033,
     "end_time": "2023-11-11T11:48:12.849897",
     "exception": false,
     "start_time": "2023-11-11T11:48:12.843864",
     "status": "completed"
    },
    "tags": []
   },
   "source": [
    "## Step 1: Loading Data\n",
    "Read the Iowa data file into a Pandas DataFrame called `home_data`."
   ]
  },
  {
   "cell_type": "code",
   "execution_count": 4,
   "id": "2ac13e51",
   "metadata": {
    "execution": {
     "iopub.execute_input": "2023-11-11T11:48:12.864390Z",
     "iopub.status.busy": "2023-11-11T11:48:12.864028Z",
     "iopub.status.idle": "2023-11-11T11:48:12.873782Z",
     "shell.execute_reply": "2023-11-11T11:48:12.872866Z"
    },
    "papermill": {
     "duration": 0.019902,
     "end_time": "2023-11-11T11:48:12.876128",
     "exception": false,
     "start_time": "2023-11-11T11:48:12.856226",
     "status": "completed"
    },
    "tags": []
   },
   "outputs": [
    {
     "data": {
      "application/javascript": [
       "parent.postMessage({\"jupyterEvent\": \"custom.exercise_interaction\", \"data\": {\"outcomeType\": 4, \"interactionType\": 1, \"questionType\": 1, \"questionId\": \"1_LoadHomeData\", \"learnToolsVersion\": \"0.3.4\", \"valueTowardsCompletion\": 0.0, \"failureMessage\": \"\", \"exceptionClass\": \"\", \"trace\": \"\"}}, \"*\")"
      ],
      "text/plain": [
       "<IPython.core.display.Javascript object>"
      ]
     },
     "metadata": {},
     "output_type": "display_data"
    },
    {
     "data": {
      "text/markdown": [
       "<span style=\"color:#ccaa33\">Check:</span> When you've updated the starter code, `check()` will tell you whether your code is correct. You need to update the code that creates variable `home_data`"
      ],
      "text/plain": [
       "Check: When you've updated the starter code, `check()` will tell you whether your code is correct. You need to update the code that creates variable `home_data`"
      ]
     },
     "metadata": {},
     "output_type": "display_data"
    }
   ],
   "source": [
    "import pandas as pd\n",
    "\n",
    "# Path of the file to read\n",
    "iowa_file_path = '../input/home-data-for-ml-course/train.csv'\n",
    "\n",
    "# Fill in the line below to read the file into a variable home_data\n",
    "home_data = ____\n",
    "\n",
    "# Call line below with no argument to check that you've loaded the data correctly\n",
    "step_1.check()"
   ]
  },
  {
   "cell_type": "code",
   "execution_count": 5,
   "id": "d94a3515",
   "metadata": {
    "execution": {
     "iopub.execute_input": "2023-11-11T11:48:12.891668Z",
     "iopub.status.busy": "2023-11-11T11:48:12.891249Z",
     "iopub.status.idle": "2023-11-11T11:48:12.895883Z",
     "shell.execute_reply": "2023-11-11T11:48:12.895003Z"
    },
    "papermill": {
     "duration": 0.014965,
     "end_time": "2023-11-11T11:48:12.897945",
     "exception": false,
     "start_time": "2023-11-11T11:48:12.882980",
     "status": "completed"
    },
    "tags": []
   },
   "outputs": [],
   "source": [
    "# Lines below will give you a hint or solution code\n",
    "#step_1.hint()\n",
    "#step_1.solution()"
   ]
  },
  {
   "cell_type": "markdown",
   "id": "18e60298",
   "metadata": {
    "papermill": {
     "duration": 0.00654,
     "end_time": "2023-11-11T11:48:12.911340",
     "exception": false,
     "start_time": "2023-11-11T11:48:12.904800",
     "status": "completed"
    },
    "tags": []
   },
   "source": [
    "## Step 2: Review The Data\n",
    "Use the command you learned to view summary statistics of the data. Then fill in variables to answer the following questions"
   ]
  },
  {
   "cell_type": "code",
   "execution_count": 6,
   "id": "fc642dc9",
   "metadata": {
    "execution": {
     "iopub.execute_input": "2023-11-11T11:48:12.927188Z",
     "iopub.status.busy": "2023-11-11T11:48:12.926442Z",
     "iopub.status.idle": "2023-11-11T11:48:12.932516Z",
     "shell.execute_reply": "2023-11-11T11:48:12.931403Z"
    },
    "papermill": {
     "duration": 0.016752,
     "end_time": "2023-11-11T11:48:12.934879",
     "exception": false,
     "start_time": "2023-11-11T11:48:12.918127",
     "status": "completed"
    },
    "tags": []
   },
   "outputs": [
    {
     "data": {
      "text/markdown": [],
      "text/plain": [
       "<learntools.core.constants.PlaceholderValue at 0x7c74f331cf10>"
      ]
     },
     "execution_count": 6,
     "metadata": {},
     "output_type": "execute_result"
    }
   ],
   "source": [
    "# Print summary statistics in next line\n",
    "____"
   ]
  },
  {
   "cell_type": "code",
   "execution_count": 7,
   "id": "5a345151",
   "metadata": {
    "execution": {
     "iopub.execute_input": "2023-11-11T11:48:12.952009Z",
     "iopub.status.busy": "2023-11-11T11:48:12.950346Z",
     "iopub.status.idle": "2023-11-11T11:48:12.960652Z",
     "shell.execute_reply": "2023-11-11T11:48:12.959515Z"
    },
    "papermill": {
     "duration": 0.021187,
     "end_time": "2023-11-11T11:48:12.963064",
     "exception": false,
     "start_time": "2023-11-11T11:48:12.941877",
     "status": "completed"
    },
    "tags": []
   },
   "outputs": [
    {
     "data": {
      "application/javascript": [
       "parent.postMessage({\"jupyterEvent\": \"custom.exercise_interaction\", \"data\": {\"outcomeType\": 4, \"interactionType\": 1, \"questionType\": 1, \"questionId\": \"2_HomeDescription\", \"learnToolsVersion\": \"0.3.4\", \"valueTowardsCompletion\": 0.0, \"failureMessage\": \"\", \"exceptionClass\": \"\", \"trace\": \"\"}}, \"*\")"
      ],
      "text/plain": [
       "<IPython.core.display.Javascript object>"
      ]
     },
     "metadata": {},
     "output_type": "display_data"
    },
    {
     "data": {
      "text/markdown": [
       "<span style=\"color:#ccaa33\">Check:</span> When you've updated the starter code, `check()` will tell you whether your code is correct. You need to update the code that creates variables `avg_lot_size`, `newest_home_age`"
      ],
      "text/plain": [
       "Check: When you've updated the starter code, `check()` will tell you whether your code is correct. You need to update the code that creates variables `avg_lot_size`, `newest_home_age`"
      ]
     },
     "metadata": {},
     "output_type": "display_data"
    }
   ],
   "source": [
    "# What is the average lot size (rounded to nearest integer)?\n",
    "avg_lot_size = ____\n",
    "\n",
    "# As of today, how old is the newest home (current year - the date in which it was built)\n",
    "newest_home_age = ____\n",
    "\n",
    "# Checks your answers\n",
    "step_2.check()"
   ]
  },
  {
   "cell_type": "code",
   "execution_count": 8,
   "id": "d829db6c",
   "metadata": {
    "execution": {
     "iopub.execute_input": "2023-11-11T11:48:12.979721Z",
     "iopub.status.busy": "2023-11-11T11:48:12.979294Z",
     "iopub.status.idle": "2023-11-11T11:48:12.984504Z",
     "shell.execute_reply": "2023-11-11T11:48:12.983192Z"
    },
    "papermill": {
     "duration": 0.016468,
     "end_time": "2023-11-11T11:48:12.986958",
     "exception": false,
     "start_time": "2023-11-11T11:48:12.970490",
     "status": "completed"
    },
    "tags": []
   },
   "outputs": [],
   "source": [
    "#step_2.hint()\n",
    "#step_2.solution()"
   ]
  },
  {
   "cell_type": "markdown",
   "id": "9bc19c45",
   "metadata": {
    "papermill": {
     "duration": 0.007995,
     "end_time": "2023-11-11T11:48:13.003235",
     "exception": false,
     "start_time": "2023-11-11T11:48:12.995240",
     "status": "completed"
    },
    "tags": []
   },
   "source": [
    "## Think About Your Data\n",
    "\n",
    "The newest house in your data isn't that new.  A few potential explanations for this:\n",
    "1. They haven't built new houses where this data was collected.\n",
    "1. The data was collected a long time ago. Houses built after the data publication wouldn't show up.\n",
    "\n",
    "If the reason is explanation #1 above, does that affect your trust in the model you build with this data? What about if it is reason #2?\n",
    "\n",
    "How could you dig into the data to see which explanation is more plausible?\n",
    "\n",
    "Check out this **[discussion thread](https://www.kaggle.com/learn-forum/60581)** to see what others think or to add your ideas.\n",
    "\n",
    "# Keep Going\n",
    "\n",
    "You are ready for **[Your First Machine Learning Model](https://www.kaggle.com/dansbecker/your-first-machine-learning-model).**\n"
   ]
  },
  {
   "cell_type": "markdown",
   "id": "bc76d82f",
   "metadata": {
    "papermill": {
     "duration": 0.006975,
     "end_time": "2023-11-11T11:48:13.017800",
     "exception": false,
     "start_time": "2023-11-11T11:48:13.010825",
     "status": "completed"
    },
    "tags": []
   },
   "source": [
    "---\n",
    "**[Machine Learning Course Home Page](https://www.kaggle.com/learn/machine-learning)**\n",
    "\n"
   ]
  }
 ],
 "metadata": {
  "kernelspec": {
   "display_name": "Python 3",
   "language": "python",
   "name": "python3"
  },
  "language_info": {
   "codemirror_mode": {
    "name": "ipython",
    "version": 3
   },
   "file_extension": ".py",
   "mimetype": "text/x-python",
   "name": "python",
   "nbconvert_exporter": "python",
   "pygments_lexer": "ipython3",
   "version": "3.10.12"
  },
  "papermill": {
   "default_parameters": {},
   "duration": 4.752248,
   "end_time": "2023-11-11T11:48:13.445167",
   "environment_variables": {},
   "exception": null,
   "input_path": "__notebook__.ipynb",
   "output_path": "__notebook__.ipynb",
   "parameters": {},
   "start_time": "2023-11-11T11:48:08.692919",
   "version": "2.4.0"
  }
 },
 "nbformat": 4,
 "nbformat_minor": 5
}
